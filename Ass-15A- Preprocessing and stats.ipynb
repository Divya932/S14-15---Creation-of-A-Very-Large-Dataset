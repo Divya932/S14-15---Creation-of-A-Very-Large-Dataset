{
 "cells": [
  {
   "cell_type": "markdown",
   "metadata": {},
   "source": [
    "### Storing Horizontally flipped foreground objects"
   ]
  },
  {
   "cell_type": "code",
   "execution_count": 5,
   "metadata": {},
   "outputs": [],
   "source": [
    "import os\n",
    "from PIL import Image, ImageOps\n",
    "\n",
    "pathfg = \"C:/Users/divva/Desktop/New folder/cars/\"\n",
    "for count, filename in enumerate(os.listdir(pathfg)):    \n",
    "        #Overlay bg and fg\n",
    "        fg = Image.open(pathfg + filename)\n",
    "        flip_fg = ImageOps.mirror(fg)\n",
    "        flip_fg.save(pathfg + \"flip_\" + str(count) + \".png\")"
   ]
  },
  {
   "cell_type": "markdown",
   "metadata": {},
   "source": [
    "#### Renaming all foreground objects"
   ]
  },
  {
   "cell_type": "code",
   "execution_count": 6,
   "metadata": {},
   "outputs": [],
   "source": [
    "for count, filename in enumerate(os.listdir(pathfg)):\n",
    "    src = pathfg + filename\n",
    "    dest = pathfg + \"Car_\" + str(count) + \".png\"\n",
    "    os.rename(src,dest)"
   ]
  },
  {
   "cell_type": "markdown",
   "metadata": {},
   "source": [
    "#### Renaming all background objects to jpg for optimisation in space"
   ]
  },
  {
   "cell_type": "code",
   "execution_count": 17,
   "metadata": {},
   "outputs": [],
   "source": [
    "pathbg = \"C:/Users/divva/Desktop/New folder/new_bg/\"\n",
    "\n",
    "for cn,filename in enumerate(os.listdir(pathbg)):\n",
    "    src = pathbg + filename\n",
    "    dest = pathbg + \"S_\" + str(cn) + \".jpg\"\n",
    "    os.rename(src,dest)"
   ]
  },
  {
   "cell_type": "markdown",
   "metadata": {},
   "source": [
    "### Creating Masks for all Foreground Objects"
   ]
  },
  {
   "cell_type": "code",
   "execution_count": 10,
   "metadata": {},
   "outputs": [
    {
     "name": "stdout",
     "output_type": "stream",
     "text": [
      "Masking...  C:/Users/divva/Desktop/New folder/cars/Car_0.png\n",
      "Masking...  C:/Users/divva/Desktop/New folder/cars/Car_1.png\n",
      "Masking...  C:/Users/divva/Desktop/New folder/cars/Car_10.png\n",
      "Masking...  C:/Users/divva/Desktop/New folder/cars/Car_100.png\n",
      "Masking...  C:/Users/divva/Desktop/New folder/cars/Car_101.png\n",
      "Masking...  C:/Users/divva/Desktop/New folder/cars/Car_102.png\n",
      "Masking...  C:/Users/divva/Desktop/New folder/cars/Car_103.png\n",
      "Masking...  C:/Users/divva/Desktop/New folder/cars/Car_104.png\n",
      "Masking...  C:/Users/divva/Desktop/New folder/cars/Car_105.png\n",
      "Masking...  C:/Users/divva/Desktop/New folder/cars/Car_106.png\n",
      "Masking...  C:/Users/divva/Desktop/New folder/cars/Car_107.png\n",
      "Masking...  C:/Users/divva/Desktop/New folder/cars/Car_108.png\n",
      "Masking...  C:/Users/divva/Desktop/New folder/cars/Car_109.png\n",
      "Masking...  C:/Users/divva/Desktop/New folder/cars/Car_11.png\n",
      "Masking...  C:/Users/divva/Desktop/New folder/cars/Car_110.png\n",
      "Masking...  C:/Users/divva/Desktop/New folder/cars/Car_111.png\n",
      "Masking...  C:/Users/divva/Desktop/New folder/cars/Car_112.png\n",
      "Masking...  C:/Users/divva/Desktop/New folder/cars/Car_113.png\n",
      "Masking...  C:/Users/divva/Desktop/New folder/cars/Car_114.png\n",
      "Masking...  C:/Users/divva/Desktop/New folder/cars/Car_115.png\n",
      "Masking...  C:/Users/divva/Desktop/New folder/cars/Car_116.png\n",
      "Masking...  C:/Users/divva/Desktop/New folder/cars/Car_117.png\n",
      "Masking...  C:/Users/divva/Desktop/New folder/cars/Car_118.png\n",
      "Masking...  C:/Users/divva/Desktop/New folder/cars/Car_119.png\n",
      "Masking...  C:/Users/divva/Desktop/New folder/cars/Car_12.png\n",
      "Masking...  C:/Users/divva/Desktop/New folder/cars/Car_120.png\n",
      "Masking...  C:/Users/divva/Desktop/New folder/cars/Car_121.png\n",
      "Masking...  C:/Users/divva/Desktop/New folder/cars/Car_122.png\n",
      "Masking...  C:/Users/divva/Desktop/New folder/cars/Car_123.png\n",
      "Masking...  C:/Users/divva/Desktop/New folder/cars/Car_124.png\n",
      "Masking...  C:/Users/divva/Desktop/New folder/cars/Car_125.png\n",
      "Masking...  C:/Users/divva/Desktop/New folder/cars/Car_126.png\n",
      "Masking...  C:/Users/divva/Desktop/New folder/cars/Car_127.png\n",
      "Masking...  C:/Users/divva/Desktop/New folder/cars/Car_128.png\n",
      "Masking...  C:/Users/divva/Desktop/New folder/cars/Car_129.png\n",
      "Masking...  C:/Users/divva/Desktop/New folder/cars/Car_13.png\n",
      "Masking...  C:/Users/divva/Desktop/New folder/cars/Car_130.png\n",
      "Masking...  C:/Users/divva/Desktop/New folder/cars/Car_131.png\n",
      "Masking...  C:/Users/divva/Desktop/New folder/cars/Car_132.png\n",
      "Masking...  C:/Users/divva/Desktop/New folder/cars/Car_133.png\n",
      "Masking...  C:/Users/divva/Desktop/New folder/cars/Car_134.png\n",
      "Masking...  C:/Users/divva/Desktop/New folder/cars/Car_135.png\n",
      "Masking...  C:/Users/divva/Desktop/New folder/cars/Car_136.png\n",
      "Masking...  C:/Users/divva/Desktop/New folder/cars/Car_137.png\n",
      "Masking...  C:/Users/divva/Desktop/New folder/cars/Car_138.png\n",
      "Masking...  C:/Users/divva/Desktop/New folder/cars/Car_139.png\n",
      "Masking...  C:/Users/divva/Desktop/New folder/cars/Car_14.png\n",
      "Masking...  C:/Users/divva/Desktop/New folder/cars/Car_140.png\n",
      "Masking...  C:/Users/divva/Desktop/New folder/cars/Car_141.png\n",
      "Masking...  C:/Users/divva/Desktop/New folder/cars/Car_142.png\n",
      "Masking...  C:/Users/divva/Desktop/New folder/cars/Car_143.png\n",
      "Masking...  C:/Users/divva/Desktop/New folder/cars/Car_144.png\n",
      "Masking...  C:/Users/divva/Desktop/New folder/cars/Car_145.png\n",
      "Masking...  C:/Users/divva/Desktop/New folder/cars/Car_146.png\n",
      "Masking...  C:/Users/divva/Desktop/New folder/cars/Car_147.png\n",
      "Masking...  C:/Users/divva/Desktop/New folder/cars/Car_148.png\n",
      "Masking...  C:/Users/divva/Desktop/New folder/cars/Car_149.png\n",
      "Masking...  C:/Users/divva/Desktop/New folder/cars/Car_15.png\n",
      "Masking...  C:/Users/divva/Desktop/New folder/cars/Car_150.png\n",
      "Masking...  C:/Users/divva/Desktop/New folder/cars/Car_151.png\n",
      "Masking...  C:/Users/divva/Desktop/New folder/cars/Car_152.png\n",
      "Masking...  C:/Users/divva/Desktop/New folder/cars/Car_153.png\n",
      "Masking...  C:/Users/divva/Desktop/New folder/cars/Car_154.png\n",
      "Masking...  C:/Users/divva/Desktop/New folder/cars/Car_155.png\n",
      "Masking...  C:/Users/divva/Desktop/New folder/cars/Car_156.png\n",
      "Masking...  C:/Users/divva/Desktop/New folder/cars/Car_157.png\n",
      "Masking...  C:/Users/divva/Desktop/New folder/cars/Car_158.png\n",
      "Masking...  C:/Users/divva/Desktop/New folder/cars/Car_159.png\n",
      "Masking...  C:/Users/divva/Desktop/New folder/cars/Car_16.png\n",
      "Masking...  C:/Users/divva/Desktop/New folder/cars/Car_160.png\n",
      "Masking...  C:/Users/divva/Desktop/New folder/cars/Car_161.png\n",
      "Masking...  C:/Users/divva/Desktop/New folder/cars/Car_162.png\n",
      "Masking...  C:/Users/divva/Desktop/New folder/cars/Car_163.png\n",
      "Masking...  C:/Users/divva/Desktop/New folder/cars/Car_164.png\n",
      "Masking...  C:/Users/divva/Desktop/New folder/cars/Car_165.png\n",
      "Masking...  C:/Users/divva/Desktop/New folder/cars/Car_166.png\n",
      "Masking...  C:/Users/divva/Desktop/New folder/cars/Car_167.png\n",
      "Masking...  C:/Users/divva/Desktop/New folder/cars/Car_168.png\n",
      "Masking...  C:/Users/divva/Desktop/New folder/cars/Car_169.png\n",
      "Masking...  C:/Users/divva/Desktop/New folder/cars/Car_17.png\n",
      "Masking...  C:/Users/divva/Desktop/New folder/cars/Car_170.png\n",
      "Masking...  C:/Users/divva/Desktop/New folder/cars/Car_171.png\n",
      "Masking...  C:/Users/divva/Desktop/New folder/cars/Car_172.png\n",
      "Masking...  C:/Users/divva/Desktop/New folder/cars/Car_173.png\n",
      "Masking...  C:/Users/divva/Desktop/New folder/cars/Car_174.png\n",
      "Masking...  C:/Users/divva/Desktop/New folder/cars/Car_175.png\n",
      "Masking...  C:/Users/divva/Desktop/New folder/cars/Car_176.png\n",
      "Masking...  C:/Users/divva/Desktop/New folder/cars/Car_177.png\n",
      "Masking...  C:/Users/divva/Desktop/New folder/cars/Car_178.png\n",
      "Masking...  C:/Users/divva/Desktop/New folder/cars/Car_179.png\n",
      "Masking...  C:/Users/divva/Desktop/New folder/cars/Car_18.png\n",
      "Masking...  C:/Users/divva/Desktop/New folder/cars/Car_180.png\n",
      "Masking...  C:/Users/divva/Desktop/New folder/cars/Car_181.png\n",
      "Masking...  C:/Users/divva/Desktop/New folder/cars/Car_182.png\n",
      "Masking...  C:/Users/divva/Desktop/New folder/cars/Car_183.png\n",
      "Masking...  C:/Users/divva/Desktop/New folder/cars/Car_184.png\n",
      "Masking...  C:/Users/divva/Desktop/New folder/cars/Car_185.png\n",
      "Masking...  C:/Users/divva/Desktop/New folder/cars/Car_186.png\n",
      "Masking...  C:/Users/divva/Desktop/New folder/cars/Car_187.png\n",
      "Masking...  C:/Users/divva/Desktop/New folder/cars/Car_188.png\n",
      "Masking...  C:/Users/divva/Desktop/New folder/cars/Car_189.png\n",
      "Masking...  C:/Users/divva/Desktop/New folder/cars/Car_19.png\n",
      "Masking...  C:/Users/divva/Desktop/New folder/cars/Car_190.png\n",
      "Masking...  C:/Users/divva/Desktop/New folder/cars/Car_191.png\n",
      "Masking...  C:/Users/divva/Desktop/New folder/cars/Car_192.png\n",
      "Masking...  C:/Users/divva/Desktop/New folder/cars/Car_193.png\n",
      "Masking...  C:/Users/divva/Desktop/New folder/cars/Car_194.png\n",
      "Masking...  C:/Users/divva/Desktop/New folder/cars/Car_195.png\n",
      "Masking...  C:/Users/divva/Desktop/New folder/cars/Car_196.png\n",
      "Masking...  C:/Users/divva/Desktop/New folder/cars/Car_197.png\n",
      "Masking...  C:/Users/divva/Desktop/New folder/cars/Car_198.png\n",
      "Masking...  C:/Users/divva/Desktop/New folder/cars/Car_199.png\n",
      "Masking...  C:/Users/divva/Desktop/New folder/cars/Car_2.png\n",
      "Masking...  C:/Users/divva/Desktop/New folder/cars/Car_20.png\n",
      "Masking...  C:/Users/divva/Desktop/New folder/cars/Car_21.png\n",
      "Masking...  C:/Users/divva/Desktop/New folder/cars/Car_22.png\n",
      "Masking...  C:/Users/divva/Desktop/New folder/cars/Car_23.png\n",
      "Masking...  C:/Users/divva/Desktop/New folder/cars/Car_24.png\n",
      "Masking...  C:/Users/divva/Desktop/New folder/cars/Car_25.png\n",
      "Masking...  C:/Users/divva/Desktop/New folder/cars/Car_26.png\n",
      "Masking...  C:/Users/divva/Desktop/New folder/cars/Car_27.png\n",
      "Masking...  C:/Users/divva/Desktop/New folder/cars/Car_28.png\n",
      "Masking...  C:/Users/divva/Desktop/New folder/cars/Car_29.png\n",
      "Masking...  C:/Users/divva/Desktop/New folder/cars/Car_3.png\n",
      "Masking...  C:/Users/divva/Desktop/New folder/cars/Car_30.png\n",
      "Masking...  C:/Users/divva/Desktop/New folder/cars/Car_31.png\n",
      "Masking...  C:/Users/divva/Desktop/New folder/cars/Car_32.png\n",
      "Masking...  C:/Users/divva/Desktop/New folder/cars/Car_33.png\n",
      "Masking...  C:/Users/divva/Desktop/New folder/cars/Car_34.png\n",
      "Masking...  C:/Users/divva/Desktop/New folder/cars/Car_35.png\n",
      "Masking...  C:/Users/divva/Desktop/New folder/cars/Car_36.png\n",
      "Masking...  C:/Users/divva/Desktop/New folder/cars/Car_37.png\n",
      "Masking...  C:/Users/divva/Desktop/New folder/cars/Car_38.png\n",
      "Masking...  C:/Users/divva/Desktop/New folder/cars/Car_39.png\n",
      "Masking...  C:/Users/divva/Desktop/New folder/cars/Car_4.png\n",
      "Masking...  C:/Users/divva/Desktop/New folder/cars/Car_40.png\n",
      "Masking...  C:/Users/divva/Desktop/New folder/cars/Car_41.png\n",
      "Masking...  C:/Users/divva/Desktop/New folder/cars/Car_42.png\n",
      "Masking...  C:/Users/divva/Desktop/New folder/cars/Car_43.png\n",
      "Masking...  C:/Users/divva/Desktop/New folder/cars/Car_44.png\n",
      "Masking...  C:/Users/divva/Desktop/New folder/cars/Car_45.png\n",
      "Masking...  C:/Users/divva/Desktop/New folder/cars/Car_46.png\n",
      "Masking...  C:/Users/divva/Desktop/New folder/cars/Car_47.png\n",
      "Masking...  C:/Users/divva/Desktop/New folder/cars/Car_48.png\n",
      "Masking...  C:/Users/divva/Desktop/New folder/cars/Car_49.png\n",
      "Masking...  C:/Users/divva/Desktop/New folder/cars/Car_5.png\n",
      "Masking...  C:/Users/divva/Desktop/New folder/cars/Car_50.png\n",
      "Masking...  C:/Users/divva/Desktop/New folder/cars/Car_51.png\n",
      "Masking...  C:/Users/divva/Desktop/New folder/cars/Car_52.png\n",
      "Masking...  C:/Users/divva/Desktop/New folder/cars/Car_53.png\n",
      "Masking...  C:/Users/divva/Desktop/New folder/cars/Car_54.png\n",
      "Masking...  C:/Users/divva/Desktop/New folder/cars/Car_55.png\n",
      "Masking...  C:/Users/divva/Desktop/New folder/cars/Car_56.png\n",
      "Masking...  C:/Users/divva/Desktop/New folder/cars/Car_57.png\n",
      "Masking...  C:/Users/divva/Desktop/New folder/cars/Car_58.png\n",
      "Masking...  C:/Users/divva/Desktop/New folder/cars/Car_59.png\n",
      "Masking...  C:/Users/divva/Desktop/New folder/cars/Car_6.png\n",
      "Masking...  C:/Users/divva/Desktop/New folder/cars/Car_60.png\n",
      "Masking...  C:/Users/divva/Desktop/New folder/cars/Car_61.png\n",
      "Masking...  C:/Users/divva/Desktop/New folder/cars/Car_62.png\n",
      "Masking...  C:/Users/divva/Desktop/New folder/cars/Car_63.png\n",
      "Masking...  C:/Users/divva/Desktop/New folder/cars/Car_64.png\n",
      "Masking...  C:/Users/divva/Desktop/New folder/cars/Car_65.png\n",
      "Masking...  C:/Users/divva/Desktop/New folder/cars/Car_66.png\n",
      "Masking...  C:/Users/divva/Desktop/New folder/cars/Car_67.png\n",
      "Masking...  C:/Users/divva/Desktop/New folder/cars/Car_68.png\n",
      "Masking...  C:/Users/divva/Desktop/New folder/cars/Car_69.png\n",
      "Masking...  C:/Users/divva/Desktop/New folder/cars/Car_7.png\n",
      "Masking...  C:/Users/divva/Desktop/New folder/cars/Car_70.png\n",
      "Masking...  C:/Users/divva/Desktop/New folder/cars/Car_71.png\n",
      "Masking...  C:/Users/divva/Desktop/New folder/cars/Car_72.png\n",
      "Masking...  C:/Users/divva/Desktop/New folder/cars/Car_73.png\n",
      "Masking...  C:/Users/divva/Desktop/New folder/cars/Car_74.png\n",
      "Masking...  C:/Users/divva/Desktop/New folder/cars/Car_75.png\n",
      "Masking...  C:/Users/divva/Desktop/New folder/cars/Car_76.png\n",
      "Masking...  C:/Users/divva/Desktop/New folder/cars/Car_77.png\n",
      "Masking...  C:/Users/divva/Desktop/New folder/cars/Car_78.png\n",
      "Masking...  C:/Users/divva/Desktop/New folder/cars/Car_79.png\n",
      "Masking...  C:/Users/divva/Desktop/New folder/cars/Car_8.png\n",
      "Masking...  C:/Users/divva/Desktop/New folder/cars/Car_80.png\n",
      "Masking...  C:/Users/divva/Desktop/New folder/cars/Car_81.png\n",
      "Masking...  C:/Users/divva/Desktop/New folder/cars/Car_82.png\n",
      "Masking...  C:/Users/divva/Desktop/New folder/cars/Car_83.png\n",
      "Masking...  C:/Users/divva/Desktop/New folder/cars/Car_84.png\n",
      "Masking...  C:/Users/divva/Desktop/New folder/cars/Car_85.png\n",
      "Masking...  C:/Users/divva/Desktop/New folder/cars/Car_86.png\n",
      "Masking...  C:/Users/divva/Desktop/New folder/cars/Car_87.png\n",
      "Masking...  C:/Users/divva/Desktop/New folder/cars/Car_88.png\n",
      "Masking...  C:/Users/divva/Desktop/New folder/cars/Car_89.png\n",
      "Masking...  C:/Users/divva/Desktop/New folder/cars/Car_9.png\n",
      "Masking...  C:/Users/divva/Desktop/New folder/cars/Car_90.png\n",
      "Masking...  C:/Users/divva/Desktop/New folder/cars/Car_91.png\n",
      "Masking...  C:/Users/divva/Desktop/New folder/cars/Car_92.png\n",
      "Masking...  C:/Users/divva/Desktop/New folder/cars/Car_93.png\n",
      "Masking...  C:/Users/divva/Desktop/New folder/cars/Car_94.png\n",
      "Masking...  C:/Users/divva/Desktop/New folder/cars/Car_95.png\n",
      "Masking...  C:/Users/divva/Desktop/New folder/cars/Car_96.png\n",
      "Masking...  C:/Users/divva/Desktop/New folder/cars/Car_97.png\n",
      "Masking...  C:/Users/divva/Desktop/New folder/cars/Car_98.png\n",
      "Masking...  C:/Users/divva/Desktop/New folder/cars/Car_99.png\n"
     ]
    }
   ],
   "source": [
    "import os\n",
    "import cv2\n",
    "\n",
    "#create foreground image masks\n",
    "pathfg = \"C:/Users/divva/Desktop/New folder/cars/\"\n",
    "for filename in sorted(os.listdir(pathfg)):\n",
    "    fn = filename.split('.')\n",
    "    f = pathfg + filename\n",
    "    print(\"Masking... \",f)\n",
    "    img = cv2.imread(f, cv2.IMREAD_UNCHANGED)\n",
    "    im = img[:,:,3]\n",
    "    cv2.imwrite(\"C:/Users/divva/Desktop/New folder/fg_masks/\" + fn[0] +\"_mask.jpg\", im)"
   ]
  },
  {
   "cell_type": "markdown",
   "metadata": {},
   "source": [
    "### Creating an Image out of a black patch of 2D array  \n",
    "Important points:  \n",
    "Creating an image with 3 RGB channels is not required when all we need is a black patch. Hence I have further tried to optimise the space occupancy by reducing it to a single channel, i.e., a single 2D array with pixel values as 0 to get a black background for masks"
   ]
  },
  {
   "cell_type": "code",
   "execution_count": 26,
   "metadata": {},
   "outputs": [
    {
     "data": {
      "text/plain": [
       "<matplotlib.image.AxesImage at 0x21144394be0>"
      ]
     },
     "execution_count": 26,
     "metadata": {},
     "output_type": "execute_result"
    },
    {
     "data": {
      "image/png": "[encoded data removed]",
      "text/plain": [
       "<Figure size 432x288 with 1 Axes>"
      ]
     },
     "metadata": {
      "needs_background": "light"
     },
     "output_type": "display_data"
    }
   ],
   "source": [
    "import matplotlib.pyplot as plt\n",
    "mask_bg = np.zeros(shape = (224,224), dtype = np.uint8)\n",
    "bgmask = Image.fromarray(mask_bg)\n",
    "bgmask.save(\"D:/Deep Learning/MaskRCNN/black_bg.jpg\")\n",
    "\n",
    "plt.imshow(mask_bg, cmap='gray')"
   ]
  },
  {
   "cell_type": "markdown",
   "metadata": {},
   "source": [
    "### Generating Overlayed Images and Respective Masks"
   ]
  },
  {
   "cell_type": "code",
   "execution_count": 34,
   "metadata": {},
   "outputs": [
    {
     "name": "stdout",
     "output_type": "stream",
     "text": [
      "No.of images created =  460000\n"
     ]
    }
   ],
   "source": [
    "import os\n",
    "from PIL import Image, ImageOps\n",
    "import random\n",
    "import numpy as np\n",
    "\n",
    "pathfg = \"C:/Users/divva/Desktop/New folder/cars/\"\n",
    "pathbg = \"C:/Users/divva/Desktop/New folder/new_bg/\"\n",
    "fg_mask_path = \"C:/Users/divva/Desktop/New folder/fg_masks/\"\n",
    "maskbg = Image.open(\"D:/Deep Learning/MaskRCNN/black_bg.jpg\")\n",
    "\n",
    "location = [(9*a, 9*b) for a in range(20) for b in range(20)]\n",
    "c = 0\n",
    "\n",
    "def create_dataset(pathfg, pathbg, c, location):\n",
    "    for count, filename in enumerate(os.listdir(pathfg)):    \n",
    "        #Overlay bg and fg\n",
    "        fg = Image.open(pathfg + filename)\n",
    "        mask_fg = Image.open(fg_mask_path + (filename.split('.'))[0] + \"_mask.jpg\")\n",
    "        \n",
    "        for cn, fn in enumerate(os.listdir(pathbg)):\n",
    "            backg = Image.open(pathbg + fn)\n",
    "\n",
    "            for i in range(20):\n",
    "                c+=1\n",
    "                bg = backg.copy()\n",
    "                mask_bg = maskbg.copy()\n",
    "                \n",
    "                loc = random.choice(location)\n",
    "                bg.paste(fg, loc, fg)\n",
    "                bg.save(\"D:/Deep Learning/MaskRCNN/bg_fg/P_\" +str(c) + \".jpg\")\n",
    "                \n",
    "                mask_bg.paste(mask_fg,loc,mask_fg)\n",
    "                mask_bg.save(\"D:/Deep Learning/MaskRCNN/bg_fg_mask/mask_\" + str(c) + \".jpg\")\n",
    "                \n",
    "    print(\"No.of images created = \", c)\n",
    "        \n",
    "create_dataset(pathfg, pathbg, c, location)            \n"
   ]
  },
  {
   "cell_type": "markdown",
   "metadata": {},
   "source": [
    "### Zipping Files in batches, recursively for depth map generation"
   ]
  },
  {
   "cell_type": "code",
   "execution_count": null,
   "metadata": {},
   "outputs": [],
   "source": [
    "from zipfile import ZipFile\n",
    "\n",
    "def BatchZipFile(dirName, zipfileName, rar_path, begin, end):\n",
    "    #archv_path = os.path.join(rar_path, rarfilename)\n",
    "    #with ZipFile(zipfileName, 'w') as zipObj:\n",
    "    for folderNm, subfolders, filenames in os.walk(dirName):\n",
    "        for filenm in filenames[begin:end]:\n",
    "            filePath = os.path.join(folderNm, filenm)\n",
    "            #zipObj.write(filePath)\n",
    "            os.system('rar a <rar_path> <filePath>')\n",
    "    \n",
    "    \n",
    "    \n",
    "c = 1 \n",
    "begin = 0\n",
    "end = 1000\n",
    "dirName = \"D:/Deep Learning/MaskRCNN/bg_fg/\"\n",
    "rar_path = \"D:/Deep Learning/MaskRCNN/Rar/\"\n",
    "while(c <= 460):\n",
    "    zipfileName = \"zipbatch\" + str(c) + \".zip\"\n",
    "    rarfileName = \"rarbatch\" + str(c) + \".rar\"\n",
    "    BatchZipFile(dirName, zipfileName, rar_path, begin, end)\n",
    "    begin = begin + 1000\n",
    "    end = end + 1000\n",
    "    c = c+1"
   ]
  },
  {
   "cell_type": "markdown",
   "metadata": {},
   "source": [
    "### Finding Mean and Std. Deviation of Our Dataset  \n",
    "**For Fg_bg images** "
   ]
  },
  {
   "cell_type": "code",
   "execution_count": 2,
   "metadata": {},
   "outputs": [],
   "source": [
    "import numpy as np\n",
    "import os\n",
    "import cv2\n",
    "import timeit"
   ]
  },
  {
   "cell_type": "code",
   "execution_count": 33,
   "metadata": {},
   "outputs": [
    {
     "name": "stdout",
     "output_type": "stream",
     "text": [
      "elapsed time: 1639.886362199999\n",
      "mean:[0.40456055804985874, 0.3983824357134671, 0.3925343274986984]\n",
      "std:[0.2599649396912192, 0.2609780929820059, 0.27395228266780175]\n"
     ]
    }
   ],
   "source": [
    "# number of channels of the dataset image\n",
    "CHANNEL_NUM = 3\n",
    "\n",
    "def cal_mean_std(root):\n",
    "    \n",
    "    pixel_num = 0 # store all pixel number in the dataset\n",
    "    channel_sum = np.zeros(CHANNEL_NUM)\n",
    "    channel_sum_squared = np.zeros(CHANNEL_NUM)\n",
    "\n",
    "    for idx, d in enumerate(os.listdir(root)):\n",
    "        path = os.path.join(root,d)\n",
    "\n",
    "        im = cv2.imread(path) # image in M*N*CHANNEL_NUM shape, channel in BGR order\n",
    "        im = im/255.0\n",
    "        pixel_num += (im.size/CHANNEL_NUM)\n",
    "        channel_sum += np.sum(im, axis=(0, 1))\n",
    "        channel_sum_squared += np.sum(np.square(im), axis=(0, 1))\n",
    "\n",
    "    bgr_mean = channel_sum / pixel_num\n",
    "    bgr_std = np.sqrt(channel_sum_squared / pixel_num - np.square(bgr_mean))\n",
    "    \n",
    "    # change the format from bgr to rgb\n",
    "    rgb_mean = list(bgr_mean)[::-1]\n",
    "    rgb_std = list(bgr_std)[::-1]\n",
    "    \n",
    "    return rgb_mean, rgb_std\n",
    "\n",
    "# The script assumes that under train_root, there are separate directories for each class\n",
    "# of training images.\n",
    "train_root = \"D:/Deep Learning/MaskRCNN/bg_fg/\"\n",
    "start = timeit.default_timer()\n",
    "mean, std = cal_mean_std(train_root)\n",
    "end = timeit.default_timer()\n",
    "print(\"elapsed time: {}\".format(end-start))\n",
    "print(\"mean:{}\\nstd:{}\".format(mean, std))"
   ]
  },
  {
   "cell_type": "markdown",
   "metadata": {},
   "source": [
    "**For Masks of fg_bg**"
   ]
  },
  {
   "cell_type": "code",
   "execution_count": 16,
   "metadata": {},
   "outputs": [
    {
     "name": "stdout",
     "output_type": "stream",
     "text": [
      "elapsed time: 0.19424100000014732\n",
      "Depth_Maps mean:[0.4901594366127988, 0.4901594366127988, 0.4901594366127988]\n",
      "std:[0.48846756739825214, 0.48846756739825214, 0.48846756739825214]\n"
     ]
    }
   ],
   "source": [
    "# number of channels of the dataset mask image\n",
    "CHANNEL_NUM = 3\n",
    "\n",
    "def cal_mean_std(root):\n",
    "    \n",
    "    pixel_num = 0 # store all pixel number in the dataset\n",
    "    channel_sum = np.zeros(CHANNEL_NUM)\n",
    "    channel_sum_squared = np.zeros(CHANNEL_NUM)\n",
    "\n",
    "    for idx, d in enumerate(os.listdir(root)):\n",
    "        path = os.path.join(root,d)\n",
    "\n",
    "        im = cv2.imread(path) # image in M*N*CHANNEL_NUM shape, channel in BGR order\n",
    "        im = im/255.0\n",
    "        pixel_num += (im.size/CHANNEL_NUM)\n",
    "        channel_sum += np.sum(im, axis=(0,1))\n",
    "        channel_sum_squared += np.sum(np.square(im), axis=(0, 1))\n",
    "\n",
    "    bgr_mean = channel_sum / pixel_num\n",
    "    bgr_std = np.sqrt(channel_sum_squared / pixel_num - np.square(bgr_mean))\n",
    "    \n",
    "    # change the format from bgr to rgb\n",
    "    rgb_mean = list(bgr_mean)[::-1]\n",
    "    rgb_std = list(bgr_std)[::-1]\n",
    "    \n",
    "    return rgb_mean, rgb_std\n",
    "\n",
    "# The script assumes that under train_root, there are separate directories for each class\n",
    "# of training images.\n",
    "train_root = \"C:/Users/divva/Desktop/New folder/fg_masks/\"\n",
    "start = timeit.default_timer()\n",
    "mean, std = cal_mean_std(train_root)\n",
    "end = timeit.default_timer()\n",
    "print(\"elapsed time: {}\".format(end-start))\n",
    "print(\"Foreground Mask mean:{}\\nstd:{}\".format(mean, std))"
   ]
  },
  {
   "cell_type": "code",
   "execution_count": 17,
   "metadata": {},
   "outputs": [
    {
     "name": "stdout",
     "output_type": "stream",
     "text": [
      "elapsed time: 1348.040793799999\n",
      "Depth_Maps mean:[0.07221486453923726, 0.07221486453923726, 0.07221486453923726]\n",
      "std:[0.2556922185275919, 0.2556922185275919, 0.2556922185275919]\n"
     ]
    }
   ],
   "source": [
    "train_root = \"D:/Deep Learning/MaskRCNN/bg_fg_mask/\"\n",
    "start = timeit.default_timer()\n",
    "mean, std = cal_mean_std(train_root)\n",
    "end = timeit.default_timer()\n",
    "print(\"elapsed time: {}\".format(end-start))\n",
    "print(\"Depth_Maps mean:{}\\nstd:{}\".format(mean, std))"
   ]
  },
  {
   "cell_type": "code",
   "execution_count": null,
   "metadata": {},
   "outputs": [],
   "source": []
  }
 ],
 "metadata": {
  "kernelspec": {
   "display_name": "Python 3",
   "language": "python",
   "name": "python3"
  },
  "language_info": {
   "codemirror_mode": {
    "name": "ipython",
    "version": 3
   },
   "file_extension": ".py",
   "mimetype": "text/x-python",
   "name": "python",
   "nbconvert_exporter": "python",
   "pygments_lexer": "ipython3",
   "version": "3.7.3"
  }
 },
 "nbformat": 4,
 "nbformat_minor": 2
}
